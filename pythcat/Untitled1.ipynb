{
 "cells": [
  {
   "cell_type": "code",
   "execution_count": 1,
   "metadata": {},
   "outputs": [],
   "source": [
    "misscat <- function(df, threshold) {\n",
    "\n",
    "        rows <- apply(df, 1, function(x) mean(is.na(x))) < threshold\n",
    "        return(df[rows, ])\n",
    "\n",
    "}"
   ]
  },
  {
   "cell_type": "code",
   "execution_count": 4,
   "metadata": {},
   "outputs": [
    {
     "data": {
      "text/html": [
       "<table>\n",
       "<caption>A data.frame: 2 × 2</caption>\n",
       "<thead>\n",
       "\t<tr><th scope=col>x</th><th scope=col>y</th></tr>\n",
       "\t<tr><th scope=col>&lt;dbl&gt;</th><th scope=col>&lt;dbl&gt;</th></tr>\n",
       "</thead>\n",
       "<tbody>\n",
       "\t<tr><td>  1</td><td>NA</td></tr>\n",
       "\t<tr><td>NaN</td><td> 2</td></tr>\n",
       "</tbody>\n",
       "</table>\n"
      ],
      "text/latex": [
       "A data.frame: 2 × 2\n",
       "\\begin{tabular}{r|ll}\n",
       " x & y\\\\\n",
       " <dbl> & <dbl>\\\\\n",
       "\\hline\n",
       "\t   1 & NA\\\\\n",
       "\t NaN &  2\\\\\n",
       "\\end{tabular}\n"
      ],
      "text/markdown": [
       "\n",
       "A data.frame: 2 × 2\n",
       "\n",
       "| x &lt;dbl&gt; | y &lt;dbl&gt; |\n",
       "|---|---|\n",
       "|   1 | NA |\n",
       "| NaN |  2 |\n",
       "\n"
      ],
      "text/plain": [
       "  x   y \n",
       "1   1 NA\n",
       "2 NaN  2"
      ]
     },
     "metadata": {},
     "output_type": "display_data"
    }
   ],
   "source": [
    "x <- data.frame(x = c(1, NaN, NaN), y = c(NA, 2, NA))\n",
    "rows <- apply(x, 1, function(x) mean(is.na(x))) < 0.6\n",
    "x[rows, ]"
   ]
  },
  {
   "cell_type": "code",
   "execution_count": 68,
   "metadata": {},
   "outputs": [
    {
     "ename": "ERROR",
     "evalue": "Error in misscat(x, 7): threshold is a ratio between 0 and 1\n",
     "output_type": "error",
     "traceback": [
      "Error in misscat(x, 7): threshold is a ratio between 0 and 1\nTraceback:\n",
      "1. misscat(x, 7)",
      "2. stop(\"threshold is a ratio between 0 and 1\")   # at line 10-11 of file <text>"
     ]
    }
   ],
   "source": [
    "misscat <- function(df, threshold) {\n",
    "    \n",
    "\n",
    "    if (!is.data.frame(df)){\n",
    "        stop('Every column in your dataframe must be numeric.')   \n",
    "    }\n",
    "    \n",
    "    if (typeof(threshold) != \"double\")\n",
    "        stop(\"Threshold must be a number\")\n",
    "    if(threshold < 0 | threshold > 1)\n",
    "        stop(\"threshold is a ratio between 0 and 1\")\n",
    "        \n",
    "    rows <- apply(df, 1, function(x) mean(is.na(x))) < threshold\n",
    "    df <- df[rows, ]\n",
    "    return(df)\n",
    "\n",
    "}\n",
    "\n",
    "\n",
    "\n",
    "x <- data.frame(x = c(1, 2, NaN), y = c(NA, 2, NA))\n",
    "misscat(x, 7)"
   ]
  },
  {
   "cell_type": "code",
   "execution_count": 73,
   "metadata": {},
   "outputs": [],
   "source": [
    "testthat::expect_error(misscat(0.3, 0.3), 'Every column in your dataframe must be numeric.')"
   ]
  },
  {
   "cell_type": "code",
   "execution_count": 74,
   "metadata": {},
   "outputs": [],
   "source": [
    "testthat::expect_error(misscat(x, \"0.3\"), 'Threshold must be a number')"
   ]
  },
  {
   "cell_type": "code",
   "execution_count": 75,
   "metadata": {},
   "outputs": [],
   "source": [
    "testthat::expect_error(misscat(x, 3), 'threshold is a ratio between 0 and 1')"
   ]
  },
  {
   "cell_type": "code",
   "execution_count": 76,
   "metadata": {},
   "outputs": [],
   "source": [
    "testthat::expect_equal(nrow(misscat(x, 0.5)), 1)"
   ]
  },
  {
   "cell_type": "code",
   "execution_count": null,
   "metadata": {},
   "outputs": [],
   "source": []
  }
 ],
 "metadata": {
  "kernelspec": {
   "display_name": "R",
   "language": "R",
   "name": "ir"
  },
  "language_info": {
   "codemirror_mode": "r",
   "file_extension": ".r",
   "mimetype": "text/x-r-source",
   "name": "R",
   "pygments_lexer": "r",
   "version": "3.6.1"
  }
 },
 "nbformat": 4,
 "nbformat_minor": 4
}
